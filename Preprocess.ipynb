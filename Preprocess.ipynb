{
 "cells": [
  {
   "cell_type": "code",
   "execution_count": 56,
   "id": "820dd8b8",
   "metadata": {},
   "outputs": [
    {
     "name": "stdout",
     "output_type": "stream",
     "text": [
      "ERROR! Session/line number was not unique in database. History logging moved to new session 31\n"
     ]
    }
   ],
   "source": [
    "import glob \n",
    "import IPython.display as ipd\n",
    "import librosa\n",
    "import librosa.display\n",
    "import matplotlib.pyplot as plt\n",
    "import numpy as np\n",
    "import pandas as pd\n",
    "# import plotly.graph_objs as go\n",
    "# import plotly.offline as py\n",
    "# import plotly.tools as tls\n",
    "# import seaborn as sns\n",
    "# import scipy.io.wavfile\n",
    "import scipy\n",
    "import csv"
   ]
  },
  {
   "cell_type": "code",
   "execution_count": null,
   "id": "ff15cc70",
   "metadata": {},
   "outputs": [],
   "source": [
    "import glob \n",
    "import keras\n",
    "import IPython.display as ipd\n",
    "import librosa\n",
    "import librosa.display\n",
    "\n",
    "import plotly.graph_objs as go\n",
    "import plotly.offline as py\n",
    "import plotly.tools as tls\n",
    "import seaborn as sns\n",
    "import scipy.io.wavfile\n",
    "import tensorflow as tf\n",
    "py.init_notebook_mode(connected=True)\n",
    "\n",
    "## Rest\n",
    "from scipy.fftpack import fft\n",
    "from scipy import signal\n",
    "from scipy.io import wavfile\n",
    "from tqdm import tqdm\n",
    "\n",
    "import sklearn"
   ]
  },
  {
   "cell_type": "code",
   "execution_count": 1,
   "id": "6743e8bd",
   "metadata": {},
   "outputs": [],
   "source": [
    "import tensorflow as tf"
   ]
  },
  {
   "cell_type": "code",
   "execution_count": 5,
   "id": "a5a0db62",
   "metadata": {},
   "outputs": [
    {
     "name": "stdout",
     "output_type": "stream",
     "text": [
      "ERROR! Session/line number was not unique in database. History logging moved to new session 21\n"
     ]
    }
   ],
   "source": [
    "df=pd.read_csv('dataset.csv', index_col=0)"
   ]
  },
  {
   "cell_type": "code",
   "execution_count": 6,
   "id": "9c824928",
   "metadata": {},
   "outputs": [
    {
     "data": {
      "text/html": [
       "<div>\n",
       "<style scoped>\n",
       "    .dataframe tbody tr th:only-of-type {\n",
       "        vertical-align: middle;\n",
       "    }\n",
       "\n",
       "    .dataframe tbody tr th {\n",
       "        vertical-align: top;\n",
       "    }\n",
       "\n",
       "    .dataframe thead th {\n",
       "        text-align: right;\n",
       "    }\n",
       "</style>\n",
       "<table border=\"1\" class=\"dataframe\">\n",
       "  <thead>\n",
       "    <tr style=\"text-align: right;\">\n",
       "      <th></th>\n",
       "      <th>path</th>\n",
       "      <th>actor</th>\n",
       "      <th>gender</th>\n",
       "      <th>emotion_label</th>\n",
       "      <th>emotion</th>\n",
       "    </tr>\n",
       "  </thead>\n",
       "  <tbody>\n",
       "    <tr>\n",
       "      <th>0</th>\n",
       "      <td>RAVDESS/Actor_01/03-01-01-01-01-01-01.wav</td>\n",
       "      <td>1</td>\n",
       "      <td>male</td>\n",
       "      <td>neutral</td>\n",
       "      <td>1</td>\n",
       "    </tr>\n",
       "    <tr>\n",
       "      <th>1</th>\n",
       "      <td>RAVDESS/Actor_01/03-01-01-01-01-02-01.wav</td>\n",
       "      <td>1</td>\n",
       "      <td>male</td>\n",
       "      <td>neutral</td>\n",
       "      <td>1</td>\n",
       "    </tr>\n",
       "    <tr>\n",
       "      <th>2</th>\n",
       "      <td>RAVDESS/Actor_01/03-01-01-01-02-01-01.wav</td>\n",
       "      <td>1</td>\n",
       "      <td>male</td>\n",
       "      <td>neutral</td>\n",
       "      <td>1</td>\n",
       "    </tr>\n",
       "    <tr>\n",
       "      <th>3</th>\n",
       "      <td>RAVDESS/Actor_01/03-01-01-01-02-02-01.wav</td>\n",
       "      <td>1</td>\n",
       "      <td>male</td>\n",
       "      <td>neutral</td>\n",
       "      <td>1</td>\n",
       "    </tr>\n",
       "    <tr>\n",
       "      <th>4</th>\n",
       "      <td>RAVDESS/Actor_01/03-01-02-01-01-01-01.wav</td>\n",
       "      <td>1</td>\n",
       "      <td>male</td>\n",
       "      <td>calm</td>\n",
       "      <td>2</td>\n",
       "    </tr>\n",
       "  </tbody>\n",
       "</table>\n",
       "</div>"
      ],
      "text/plain": [
       "                                        path  actor gender emotion_label  \\\n",
       "0  RAVDESS/Actor_01/03-01-01-01-01-01-01.wav      1   male       neutral   \n",
       "1  RAVDESS/Actor_01/03-01-01-01-01-02-01.wav      1   male       neutral   \n",
       "2  RAVDESS/Actor_01/03-01-01-01-02-01-01.wav      1   male       neutral   \n",
       "3  RAVDESS/Actor_01/03-01-01-01-02-02-01.wav      1   male       neutral   \n",
       "4  RAVDESS/Actor_01/03-01-02-01-01-01-01.wav      1   male          calm   \n",
       "\n",
       "   emotion  \n",
       "0        1  \n",
       "1        1  \n",
       "2        1  \n",
       "3        1  \n",
       "4        2  "
      ]
     },
     "execution_count": 6,
     "metadata": {},
     "output_type": "execute_result"
    }
   ],
   "source": [
    "df.head()"
   ]
  },
  {
   "cell_type": "code",
   "execution_count": 52,
   "id": "4be042ad",
   "metadata": {},
   "outputs": [],
   "source": [
    "max_audio_duration=3\n",
    "sample_rate=48000\n",
    "max_audio_len=max_audio_duration*sample_rate"
   ]
  },
  {
   "cell_type": "code",
   "execution_count": 90,
   "id": "d7e92b27",
   "metadata": {},
   "outputs": [],
   "source": [
    "for i in range(df.shape[0]):\n",
    "    path=df.path[i]\n",
    "    data,sr=librosa.load(path, sr=sr, res_type='kaiser_fast' )\n",
    "    data,_ = librosa.effects.trim(data,top_db = 25)\n",
    "    data = scipy.signal.wiener(data)\n",
    "\n",
    "    if len(data) > max_audio_len:\n",
    "        data = data[0:max_audio_len]\n",
    "    elif  max_audio_len > len(data):\n",
    "        max_offset = max_audio_len - len(data)  \n",
    "        data = np.pad(data, (0, max_offset), \"constant\")\n",
    "    mfccs = np.mean(librosa.feature.mfcc(data, sr=sample_rate, n_mfcc=128).T, axis=0)\n",
    "    delta=librosa.feature.delta(mfccs, delta=1)\n",
    "    delta2=librosa.feature.delta(mfccs, delta=2)\n",
    "    file = open('mfccs.csv', 'a', newline='')\n",
    "    with file:\n",
    "        writer = csv.writer(file)\n",
    "        writer.writerow(mfccs)\n",
    "    file2 = open('delta.csv', 'a', newline='')\n",
    "    with file2:\n",
    "        writer = csv.writer(file2)\n",
    "        writer.writerow(delta)\n",
    "    file3 = open('delta2.csv', 'a', newline='')\n",
    "    with file3:\n",
    "        writer = csv.writer(file3)\n",
    "        writer.writerow(delta2)"
   ]
  },
  {
   "cell_type": "code",
   "execution_count": 91,
   "id": "0fae51cd",
   "metadata": {},
   "outputs": [],
   "source": [
    "audio_duration = 3\n",
    "sampling_rate = 22050*2\n",
    "input_length = sampling_rate * audio_duration\n",
    "n_mfcc = 20\n",
    "data_sample= np.zeros(input_length)\n",
    "mfcc = librosa.feature.mfcc(data_sample, sr=sampling_rate, n_mfcc=n_mfcc)"
   ]
  },
  {
   "cell_type": "code",
   "execution_count": null,
   "id": "19e07954",
   "metadata": {},
   "outputs": [],
   "source": [
    "audios= np.empty(shape=(df.shape[0],128, mfcc.shape[1], 1))\n",
    "\n",
    "count=0\n",
    "for i in range(len(df)):\n",
    "    signal, sample_rate = librosa.load(df.path[i], res_type='kaiser_fast',sr=sampling_rate)\n",
    "    signal,index = librosa.effects.trim(signal,top_db = 25)\n",
    "    signal = scipy.signal.wiener(signal)\n",
    "    \n",
    "    if len(signal) > input_length:\n",
    "        signal = signal[0:input_length]\n",
    "    elif  input_length > len(signal):\n",
    "        max_offset = input_length - len(signal)  \n",
    "        signal = np.pad(signal, (0, max_offset), \"constant\")\n",
    "\n",
    "    melspec = librosa.feature.melspectrogram(signal, sr=sample_rate, n_mels=128,n_fft=2048,hop_length=512)   \n",
    "    logspec = librosa.amplitude_to_db(melspec)\n",
    "    logspec = np.expand_dims(logspec, axis=-1)\n",
    "    audios[count,] = logspec \n",
    "    count+=1"
   ]
  },
  {
   "cell_type": "code",
   "execution_count": 98,
   "id": "db705ed4",
   "metadata": {},
   "outputs": [],
   "source": [
    "np.save('logspec', audios)"
   ]
  }
 ],
 "metadata": {
  "kernelspec": {
   "display_name": "Python 3",
   "language": "python",
   "name": "python3"
  },
  "language_info": {
   "codemirror_mode": {
    "name": "ipython",
    "version": 3
   },
   "file_extension": ".py",
   "mimetype": "text/x-python",
   "name": "python",
   "nbconvert_exporter": "python",
   "pygments_lexer": "ipython3",
   "version": "3.6.13"
  }
 },
 "nbformat": 4,
 "nbformat_minor": 5
}
