{
 "cells": [
  {
   "cell_type": "code",
   "execution_count": 2,
   "id": "9328d2a8",
   "metadata": {},
   "outputs": [
    {
     "name": "stderr",
     "output_type": "stream",
     "text": [
      "Using TensorFlow backend.\n"
     ]
    }
   ],
   "source": [
    "## Python\n",
    "import os\n",
    "import random\n",
    "import sys\n",
    "import warnings\n",
    "warnings.filterwarnings('ignore')\n",
    "\n",
    "\n",
    "## Package\n",
    "import glob \n",
    "import keras\n",
    "import IPython.display as ipd\n",
    "import librosa\n",
    "\n",
    "import librosa.display\n",
    "import matplotlib.pyplot as plt\n",
    "import numpy as np\n",
    "import pandas as pd\n",
    "import seaborn as sns\n",
    "import scipy.io.wavfile\n",
    "import tensorflow as tf"
   ]
  },
  {
   "cell_type": "code",
   "execution_count": 3,
   "id": "d4949a4a",
   "metadata": {},
   "outputs": [],
   "source": [
    "from keras import regularizers\n",
    "from keras.callbacks import ModelCheckpoint, LearningRateScheduler, EarlyStopping\n",
    "from keras.callbacks import  History, ReduceLROnPlateau, CSVLogger\n",
    "from keras.models import Model, Sequential\n",
    "from keras.layers import Dense, Embedding, LSTM\n",
    "from keras.layers import Input, Flatten, Dropout, Activation, BatchNormalization\n",
    "from keras.layers import Conv1D, MaxPooling1D, AveragePooling1D\n",
    "from keras.preprocessing import sequence\n",
    "from keras.preprocessing.sequence import pad_sequences\n",
    "from keras.preprocessing.text import Tokenizer\n",
    "from keras.utils import np_utils\n",
    "from keras.utils import to_categorical\n",
    "\n",
    "from keras.models import Model, Sequential\n",
    "from keras import optimizers\n",
    "from keras.layers import Input, Conv1D, Conv2D,BatchNormalization, MaxPooling1D,MaxPooling2D, LSTM, Dense, Activation, Layer,Reshape\n",
    "\n",
    "from keras.utils import to_categorical\n",
    "import keras.backend as K\n",
    "from keras.callbacks import EarlyStopping\n",
    "from keras.callbacks import ModelCheckpoint\n",
    "from keras.models import load_model\n",
    "\n",
    "\n",
    "## Sklearn\n",
    "from sklearn.metrics import confusion_matrix\n",
    "from sklearn.preprocessing import LabelEncoder\n",
    "from sklearn.model_selection import train_test_split\n",
    "\n",
    "\n",
    "## Rest\n",
    "from scipy.fftpack import fft\n",
    "from scipy import signal\n",
    "from scipy.io import wavfile\n",
    "from tqdm import tqdm_notebook as tqdm\n",
    "\n",
    "input_duration=3"
   ]
  },
  {
   "cell_type": "code",
   "execution_count": 15,
   "id": "942ca284",
   "metadata": {},
   "outputs": [],
   "source": [
    "df=pd.read_csv('dataset.csv', index_col=0)"
   ]
  },
  {
   "cell_type": "code",
   "execution_count": 5,
   "id": "682b5a59",
   "metadata": {},
   "outputs": [],
   "source": [
    "logspec = np.load('logspec.npy')"
   ]
  },
  {
   "cell_type": "code",
   "execution_count": 45,
   "id": "6cb0a87c",
   "metadata": {},
   "outputs": [],
   "source": [
    "X=logspec\n",
    "y=pd.get_dummies(df.emotion).values"
   ]
  },
  {
   "cell_type": "code",
   "execution_count": 46,
   "id": "b921474a",
   "metadata": {},
   "outputs": [],
   "source": [
    "X_train, X_test, y_train, y_test= train_test_split(X,y, test_size=0.1, random_state=42)"
   ]
  },
  {
   "cell_type": "code",
   "execution_count": 41,
   "id": "ec8d5cc5",
   "metadata": {},
   "outputs": [
    {
     "name": "stdout",
     "output_type": "stream",
     "text": [
      "ERROR! Session/line number was not unique in database. History logging moved to new session 175\n"
     ]
    }
   ],
   "source": [
    "input_shape = X_train.shape[1:]"
   ]
  },
  {
   "cell_type": "code",
   "execution_count": 42,
   "id": "eca23fdf",
   "metadata": {},
   "outputs": [
    {
     "name": "stdout",
     "output_type": "stream",
     "text": [
      "ERROR! Session/line number was not unique in database. History logging moved to new session 176\n"
     ]
    }
   ],
   "source": [
    "model = Sequential(name='Audio_CNN_2D')\n",
    "\n",
    "# LFLB1\n",
    "model.add(Conv2D(filters=128, kernel_size=(3,3), strides=(1,1), padding='same', data_format='channels_last',input_shape=input_shape))\n",
    "model.add(BatchNormalization())\n",
    "model.add(Activation('elu'))\n",
    "model.add(MaxPooling2D(pool_size=(2,2), strides=(2,2)))\n",
    "model.add(Dropout(0.5))\n",
    "\n",
    "model.add(Conv2D(filters=64, kernel_size=(3,3), strides=(1,1), padding='same'))\n",
    "model.add(BatchNormalization())\n",
    "model.add(Activation('elu'))\n",
    "model.add(MaxPooling2D(pool_size=(2,2), strides=(2,2)))\n",
    "model.add(Dropout(0.25))\n",
    "\n",
    "model.add(Conv2D(filters=64, kernel_size=(3,3), strides=(1,1), padding='same'))\n",
    "model.add(BatchNormalization())\n",
    "model.add(Activation('elu'))\n",
    "model.add(MaxPooling2D(pool_size=(2,2), strides=(2,2)))\n",
    "model.add(Dropout(0.25))\n",
    "\n",
    "model.add(Conv2D(filters=64, kernel_size=(3,3), strides=(1,1), padding='same'))\n",
    "model.add(BatchNormalization())\n",
    "model.add(Activation('elu'))\n",
    "model.add(MaxPooling2D(pool_size=(2,2), strides=(2,2)))\n",
    "model.add(Dropout(0.25))\n",
    "\n",
    "model.add(Conv2D(filters=64, kernel_size=(3,3), strides=(1,1), padding='same'))\n",
    "model.add(BatchNormalization())\n",
    "model.add(Activation('elu'))\n",
    "model.add(MaxPooling2D(pool_size=(2,2), strides=(2,2)))\n",
    "model.add(Dropout(0.25))\n",
    "\n",
    "model.add(Flatten())\n",
    "# FC\n",
    "model.add(Dense(units=num_classes, activation='softmax'))\n",
    "\n",
    "# Model compilation\n",
    "opt = optimizers.Adam(lr=0.001, beta_1=0.9,  beta_2=0.999, amsgrad=False)\n",
    "model.compile(optimizer=opt, loss='categorical_crossentropy', metrics=['categorical_accuracy'])"
   ]
  },
  {
   "cell_type": "code",
   "execution_count": 44,
   "id": "8d9beb59",
   "metadata": {},
   "outputs": [
    {
     "data": {
      "text/plain": [
       "(1296,)"
      ]
     },
     "execution_count": 44,
     "metadata": {},
     "output_type": "execute_result"
    },
    {
     "name": "stdout",
     "output_type": "stream",
     "text": [
      "ERROR! Session/line number was not unique in database. History logging moved to new session 178\n"
     ]
    }
   ],
   "source": [
    "y_train.shape"
   ]
  },
  {
   "cell_type": "code",
   "execution_count": 47,
   "id": "f08f2a97",
   "metadata": {},
   "outputs": [],
   "source": [
    "num_classes = len(np.unique(np.argmax(y_train, 1)))"
   ]
  },
  {
   "cell_type": "code",
   "execution_count": 48,
   "id": "52db62de",
   "metadata": {
    "scrolled": true
   },
   "outputs": [
    {
     "name": "stdout",
     "output_type": "stream",
     "text": [
      "Train on 1296 samples, validate on 144 samples\n",
      "Epoch 1/100\n",
      "ERROR! Session/line number was not unique in database. History logging moved to new session 180\n",
      "1296/1296 [==============================] - 158s 122ms/step - loss: 2.0862 - categorical_accuracy: 0.2894 - val_loss: 2.1180 - val_categorical_accuracy: 0.2083\n",
      "Epoch 2/100\n",
      "1296/1296 [==============================] - 158s 122ms/step - loss: 1.9275 - categorical_accuracy: 0.3187 - val_loss: 1.5777 - val_categorical_accuracy: 0.4514\n",
      "Epoch 3/100\n",
      "1296/1296 [==============================] - 158s 122ms/step - loss: 1.7139 - categorical_accuracy: 0.3704 - val_loss: 3.1872 - val_categorical_accuracy: 0.1597\n",
      "Epoch 4/100\n",
      "1296/1296 [==============================] - 158s 122ms/step - loss: 1.6105 - categorical_accuracy: 0.4128 - val_loss: 1.8960 - val_categorical_accuracy: 0.4097\n",
      "Epoch 5/100\n",
      "1296/1296 [==============================] - 158s 122ms/step - loss: 1.5529 - categorical_accuracy: 0.4228 - val_loss: 1.6908 - val_categorical_accuracy: 0.4097\n",
      "Epoch 6/100\n",
      "1296/1296 [==============================] - 158s 122ms/step - loss: 1.4331 - categorical_accuracy: 0.4761 - val_loss: 1.5074 - val_categorical_accuracy: 0.4375\n",
      "Epoch 7/100\n",
      "1296/1296 [==============================] - 158s 122ms/step - loss: 1.3966 - categorical_accuracy: 0.4923 - val_loss: 1.1559 - val_categorical_accuracy: 0.5486\n",
      "Epoch 8/100\n",
      "1296/1296 [==============================] - 158s 122ms/step - loss: 1.2360 - categorical_accuracy: 0.5432 - val_loss: 1.3844 - val_categorical_accuracy: 0.4444\n",
      "Epoch 9/100\n",
      "1296/1296 [==============================] - 158s 122ms/step - loss: 1.2106 - categorical_accuracy: 0.5571 - val_loss: 1.4178 - val_categorical_accuracy: 0.5000\n",
      "Epoch 10/100\n",
      "1296/1296 [==============================] - 158s 122ms/step - loss: 1.1360 - categorical_accuracy: 0.5702 - val_loss: 1.1927 - val_categorical_accuracy: 0.5278\n",
      "Epoch 11/100\n",
      "1296/1296 [==============================] - 158s 122ms/step - loss: 1.0622 - categorical_accuracy: 0.6327 - val_loss: 1.0991 - val_categorical_accuracy: 0.6042\n",
      "Epoch 12/100\n",
      "1296/1296 [==============================] - 158s 122ms/step - loss: 1.0269 - categorical_accuracy: 0.6265 - val_loss: 1.3074 - val_categorical_accuracy: 0.5139\n",
      "Epoch 13/100\n",
      "1296/1296 [==============================] - 158s 122ms/step - loss: 0.9653 - categorical_accuracy: 0.6319 - val_loss: 1.5668 - val_categorical_accuracy: 0.4722\n",
      "Epoch 14/100\n",
      "1296/1296 [==============================] - 158s 122ms/step - loss: 0.8858 - categorical_accuracy: 0.6829 - val_loss: 1.3024 - val_categorical_accuracy: 0.5139\n",
      "Epoch 15/100\n",
      "1296/1296 [==============================] - 158s 122ms/step - loss: 0.8507 - categorical_accuracy: 0.6798 - val_loss: 1.1501 - val_categorical_accuracy: 0.5972\n",
      "Epoch 16/100\n",
      "1296/1296 [==============================] - 158s 122ms/step - loss: 0.7665 - categorical_accuracy: 0.7276 - val_loss: 1.4989 - val_categorical_accuracy: 0.4653\n",
      "Epoch 17/100\n",
      "1296/1296 [==============================] - 158s 122ms/step - loss: 0.7645 - categorical_accuracy: 0.7338 - val_loss: 1.0237 - val_categorical_accuracy: 0.6250\n",
      "Epoch 18/100\n",
      "1296/1296 [==============================] - 158s 122ms/step - loss: 0.7529 - categorical_accuracy: 0.7153 - val_loss: 1.0566 - val_categorical_accuracy: 0.6250\n",
      "Epoch 19/100\n",
      "1296/1296 [==============================] - 158s 122ms/step - loss: 0.6423 - categorical_accuracy: 0.7693 - val_loss: 0.9671 - val_categorical_accuracy: 0.6389\n",
      "Epoch 20/100\n",
      "1296/1296 [==============================] - 158s 122ms/step - loss: 0.5738 - categorical_accuracy: 0.7948 - val_loss: 1.2551 - val_categorical_accuracy: 0.5694\n",
      "Epoch 21/100\n",
      "1296/1296 [==============================] - 158s 122ms/step - loss: 0.5599 - categorical_accuracy: 0.7994 - val_loss: 1.3658 - val_categorical_accuracy: 0.5278\n",
      "Epoch 22/100\n",
      "1296/1296 [==============================] - 158s 122ms/step - loss: 0.5810 - categorical_accuracy: 0.7886 - val_loss: 1.1897 - val_categorical_accuracy: 0.5833\n",
      "Epoch 23/100\n",
      "1296/1296 [==============================] - 158s 122ms/step - loss: 0.4968 - categorical_accuracy: 0.8241 - val_loss: 1.1232 - val_categorical_accuracy: 0.6528\n",
      "Epoch 24/100\n",
      "1296/1296 [==============================] - 158s 122ms/step - loss: 0.4327 - categorical_accuracy: 0.8434 - val_loss: 0.9357 - val_categorical_accuracy: 0.6944\n",
      "Epoch 25/100\n",
      "1296/1296 [==============================] - 158s 122ms/step - loss: 0.4377 - categorical_accuracy: 0.8349 - val_loss: 0.9528 - val_categorical_accuracy: 0.6667\n",
      "Epoch 26/100\n",
      "1296/1296 [==============================] - 158s 122ms/step - loss: 0.3646 - categorical_accuracy: 0.8742 - val_loss: 0.9839 - val_categorical_accuracy: 0.6736\n",
      "Epoch 27/100\n",
      "1296/1296 [==============================] - 158s 122ms/step - loss: 0.3983 - categorical_accuracy: 0.8488 - val_loss: 0.8542 - val_categorical_accuracy: 0.6875\n",
      "Epoch 28/100\n",
      "1296/1296 [==============================] - 158s 122ms/step - loss: 0.3356 - categorical_accuracy: 0.8827 - val_loss: 0.8082 - val_categorical_accuracy: 0.6944\n",
      "Epoch 29/100\n",
      "1296/1296 [==============================] - 158s 122ms/step - loss: 0.2891 - categorical_accuracy: 0.8981 - val_loss: 1.0312 - val_categorical_accuracy: 0.6667\n",
      "Epoch 30/100\n",
      "1296/1296 [==============================] - 158s 122ms/step - loss: 0.2788 - categorical_accuracy: 0.8997 - val_loss: 1.4573 - val_categorical_accuracy: 0.5347\n",
      "Epoch 31/100\n",
      "1296/1296 [==============================] - 158s 122ms/step - loss: 0.2479 - categorical_accuracy: 0.9174 - val_loss: 0.9348 - val_categorical_accuracy: 0.7292\n",
      "Epoch 32/100\n",
      "1296/1296 [==============================] - 158s 122ms/step - loss: 0.2503 - categorical_accuracy: 0.9090 - val_loss: 0.9103 - val_categorical_accuracy: 0.7431\n",
      "Epoch 33/100\n",
      "1296/1296 [==============================] - 158s 122ms/step - loss: 0.2605 - categorical_accuracy: 0.9136 - val_loss: 1.1178 - val_categorical_accuracy: 0.7083\n",
      "Epoch 34/100\n",
      "1296/1296 [==============================] - 158s 122ms/step - loss: 0.2377 - categorical_accuracy: 0.9144 - val_loss: 1.0701 - val_categorical_accuracy: 0.6597\n",
      "Epoch 35/100\n",
      "1296/1296 [==============================] - 158s 122ms/step - loss: 0.2160 - categorical_accuracy: 0.9267 - val_loss: 0.9780 - val_categorical_accuracy: 0.6458\n",
      "Epoch 36/100\n",
      "1296/1296 [==============================] - 158s 122ms/step - loss: 0.2163 - categorical_accuracy: 0.9275 - val_loss: 1.0232 - val_categorical_accuracy: 0.6597\n",
      "Epoch 37/100\n",
      "1296/1296 [==============================] - 158s 122ms/step - loss: 0.1949 - categorical_accuracy: 0.9298 - val_loss: 1.0738 - val_categorical_accuracy: 0.6597\n",
      "Epoch 38/100\n",
      "1296/1296 [==============================] - 158s 122ms/step - loss: 0.1757 - categorical_accuracy: 0.9460 - val_loss: 0.8867 - val_categorical_accuracy: 0.7431\n",
      "Epoch 39/100\n",
      "1296/1296 [==============================] - 158s 122ms/step - loss: 0.2076 - categorical_accuracy: 0.9306 - val_loss: 1.0502 - val_categorical_accuracy: 0.7083\n",
      "Epoch 40/100\n",
      "1296/1296 [==============================] - 158s 122ms/step - loss: 0.1547 - categorical_accuracy: 0.9483 - val_loss: 1.0068 - val_categorical_accuracy: 0.6806\n",
      "Epoch 41/100\n",
      "1296/1296 [==============================] - 158s 122ms/step - loss: 0.1366 - categorical_accuracy: 0.9506 - val_loss: 0.9378 - val_categorical_accuracy: 0.7292\n",
      "Epoch 42/100\n",
      "1296/1296 [==============================] - 158s 122ms/step - loss: 0.1402 - categorical_accuracy: 0.9514 - val_loss: 1.0407 - val_categorical_accuracy: 0.7014\n",
      "Epoch 43/100\n",
      "1296/1296 [==============================] - 158s 122ms/step - loss: 0.1482 - categorical_accuracy: 0.9522 - val_loss: 1.1485 - val_categorical_accuracy: 0.6806\n",
      "Epoch 44/100\n",
      "1296/1296 [==============================] - 157s 121ms/step - loss: 0.1348 - categorical_accuracy: 0.9514 - val_loss: 1.2260 - val_categorical_accuracy: 0.6319\n",
      "Epoch 45/100\n",
      "1296/1296 [==============================] - 159s 123ms/step - loss: 0.1292 - categorical_accuracy: 0.9645 - val_loss: 1.1097 - val_categorical_accuracy: 0.6736\n",
      "Epoch 46/100\n",
      "1296/1296 [==============================] - 158s 122ms/step - loss: 0.1335 - categorical_accuracy: 0.9537 - val_loss: 0.8794 - val_categorical_accuracy: 0.7222\n",
      "Epoch 47/100\n"
     ]
    },
    {
     "name": "stdout",
     "output_type": "stream",
     "text": [
      "1296/1296 [==============================] - 158s 122ms/step - loss: 0.0966 - categorical_accuracy: 0.9707 - val_loss: 1.1102 - val_categorical_accuracy: 0.7083\n",
      "Epoch 48/100\n",
      "1296/1296 [==============================] - 158s 122ms/step - loss: 0.0966 - categorical_accuracy: 0.9691 - val_loss: 0.9649 - val_categorical_accuracy: 0.7014\n",
      "Epoch 49/100\n",
      "1296/1296 [==============================] - 158s 122ms/step - loss: 0.1026 - categorical_accuracy: 0.9738 - val_loss: 1.1415 - val_categorical_accuracy: 0.7292\n",
      "Epoch 50/100\n",
      "1296/1296 [==============================] - 158s 122ms/step - loss: 0.0739 - categorical_accuracy: 0.9769 - val_loss: 1.0219 - val_categorical_accuracy: 0.7222\n",
      "Epoch 51/100\n",
      "1296/1296 [==============================] - 158s 122ms/step - loss: 0.1225 - categorical_accuracy: 0.9560 - val_loss: 1.0208 - val_categorical_accuracy: 0.6875\n",
      "Epoch 52/100\n",
      "1296/1296 [==============================] - 158s 122ms/step - loss: 0.0763 - categorical_accuracy: 0.9776 - val_loss: 1.1164 - val_categorical_accuracy: 0.7153\n",
      "Epoch 53/100\n",
      "1296/1296 [==============================] - 158s 122ms/step - loss: 0.0838 - categorical_accuracy: 0.9753 - val_loss: 0.9649 - val_categorical_accuracy: 0.7222\n",
      "Epoch 54/100\n",
      "1296/1296 [==============================] - 158s 122ms/step - loss: 0.0844 - categorical_accuracy: 0.9738 - val_loss: 1.1101 - val_categorical_accuracy: 0.6875\n",
      "Epoch 55/100\n",
      "1296/1296 [==============================] - 158s 122ms/step - loss: 0.0907 - categorical_accuracy: 0.9738 - val_loss: 1.3766 - val_categorical_accuracy: 0.6528\n",
      "Epoch 56/100\n",
      "1296/1296 [==============================] - 158s 122ms/step - loss: 0.0902 - categorical_accuracy: 0.9691 - val_loss: 1.0009 - val_categorical_accuracy: 0.7500\n",
      "Epoch 57/100\n",
      "1296/1296 [==============================] - 158s 122ms/step - loss: 0.0902 - categorical_accuracy: 0.9699 - val_loss: 0.9774 - val_categorical_accuracy: 0.7222\n",
      "Epoch 58/100\n",
      "1296/1296 [==============================] - 157s 121ms/step - loss: 0.1145 - categorical_accuracy: 0.9576 - val_loss: 0.8574 - val_categorical_accuracy: 0.7569\n",
      "Epoch 59/100\n",
      "1296/1296 [==============================] - 158s 122ms/step - loss: 0.0758 - categorical_accuracy: 0.9745 - val_loss: 0.9842 - val_categorical_accuracy: 0.7500\n",
      "Epoch 60/100\n",
      "1296/1296 [==============================] - 157s 121ms/step - loss: 0.0610 - categorical_accuracy: 0.9823 - val_loss: 0.9346 - val_categorical_accuracy: 0.7500\n",
      "Epoch 61/100\n",
      "1296/1296 [==============================] - 157s 121ms/step - loss: 0.0666 - categorical_accuracy: 0.9769 - val_loss: 0.9407 - val_categorical_accuracy: 0.7500\n",
      "Epoch 62/100\n",
      "1296/1296 [==============================] - 157s 121ms/step - loss: 0.0747 - categorical_accuracy: 0.9792 - val_loss: 1.1284 - val_categorical_accuracy: 0.6944\n",
      "Epoch 63/100\n",
      "1296/1296 [==============================] - 157s 121ms/step - loss: 0.0657 - categorical_accuracy: 0.9792 - val_loss: 0.9947 - val_categorical_accuracy: 0.7361\n",
      "Epoch 64/100\n",
      "1296/1296 [==============================] - 157s 121ms/step - loss: 0.0777 - categorical_accuracy: 0.9730 - val_loss: 1.2005 - val_categorical_accuracy: 0.7292\n",
      "Epoch 65/100\n",
      "1296/1296 [==============================] - 157s 121ms/step - loss: 0.0724 - categorical_accuracy: 0.9792 - val_loss: 1.0678 - val_categorical_accuracy: 0.7431\n",
      "Epoch 66/100\n",
      "1296/1296 [==============================] - 157s 121ms/step - loss: 0.0639 - categorical_accuracy: 0.9792 - val_loss: 1.0240 - val_categorical_accuracy: 0.7361\n",
      "Epoch 67/100\n",
      "1296/1296 [==============================] - 157s 121ms/step - loss: 0.0534 - categorical_accuracy: 0.9861 - val_loss: 1.0873 - val_categorical_accuracy: 0.7569\n",
      "Epoch 68/100\n",
      "1296/1296 [==============================] - 158s 122ms/step - loss: 0.0558 - categorical_accuracy: 0.9792 - val_loss: 1.0744 - val_categorical_accuracy: 0.7431\n",
      "Epoch 69/100\n",
      "1296/1296 [==============================] - 158s 122ms/step - loss: 0.0659 - categorical_accuracy: 0.9792 - val_loss: 1.1124 - val_categorical_accuracy: 0.7222\n",
      "Epoch 70/100\n",
      "1296/1296 [==============================] - 157s 121ms/step - loss: 0.0520 - categorical_accuracy: 0.9838 - val_loss: 1.1693 - val_categorical_accuracy: 0.7222\n",
      "Epoch 71/100\n",
      "1296/1296 [==============================] - 157s 121ms/step - loss: 0.0508 - categorical_accuracy: 0.9823 - val_loss: 1.0450 - val_categorical_accuracy: 0.7292\n",
      "Epoch 72/100\n",
      "1296/1296 [==============================] - 157s 121ms/step - loss: 0.0581 - categorical_accuracy: 0.9815 - val_loss: 1.0357 - val_categorical_accuracy: 0.7292\n",
      "Epoch 73/100\n",
      "1296/1296 [==============================] - 157s 121ms/step - loss: 0.0513 - categorical_accuracy: 0.9861 - val_loss: 0.9951 - val_categorical_accuracy: 0.7431\n",
      "Epoch 74/100\n",
      "1296/1296 [==============================] - 157s 121ms/step - loss: 0.0371 - categorical_accuracy: 0.9877 - val_loss: 1.1650 - val_categorical_accuracy: 0.7292\n",
      "Epoch 75/100\n",
      "1296/1296 [==============================] - 157s 122ms/step - loss: 0.0495 - categorical_accuracy: 0.9846 - val_loss: 1.1204 - val_categorical_accuracy: 0.7222\n",
      "Epoch 76/100\n",
      "1296/1296 [==============================] - 157s 121ms/step - loss: 0.0468 - categorical_accuracy: 0.9838 - val_loss: 1.2602 - val_categorical_accuracy: 0.7431\n",
      "Epoch 77/100\n",
      "1296/1296 [==============================] - 157s 121ms/step - loss: 0.0489 - categorical_accuracy: 0.9823 - val_loss: 1.0727 - val_categorical_accuracy: 0.7292\n",
      "Epoch 78/100\n",
      "1296/1296 [==============================] - 157s 121ms/step - loss: 0.0407 - categorical_accuracy: 0.9861 - val_loss: 1.1266 - val_categorical_accuracy: 0.7292\n",
      "Epoch 79/100\n",
      "1296/1296 [==============================] - 157s 121ms/step - loss: 0.0439 - categorical_accuracy: 0.9869 - val_loss: 1.1658 - val_categorical_accuracy: 0.7431\n",
      "Epoch 80/100\n",
      "1296/1296 [==============================] - 157s 121ms/step - loss: 0.0449 - categorical_accuracy: 0.9846 - val_loss: 1.4815 - val_categorical_accuracy: 0.6875\n",
      "Epoch 81/100\n",
      "1296/1296 [==============================] - 157s 121ms/step - loss: 0.0600 - categorical_accuracy: 0.9815 - val_loss: 1.1144 - val_categorical_accuracy: 0.7153\n",
      "Epoch 82/100\n",
      "1296/1296 [==============================] - 157s 121ms/step - loss: 0.0500 - categorical_accuracy: 0.9853 - val_loss: 1.1144 - val_categorical_accuracy: 0.7014\n",
      "Epoch 83/100\n",
      "1296/1296 [==============================] - 157s 121ms/step - loss: 0.0427 - categorical_accuracy: 0.9900 - val_loss: 1.2948 - val_categorical_accuracy: 0.6875\n",
      "Epoch 84/100\n",
      "1296/1296 [==============================] - 157s 122ms/step - loss: 0.0345 - categorical_accuracy: 0.9892 - val_loss: 1.1875 - val_categorical_accuracy: 0.7153\n",
      "Epoch 85/100\n",
      "1296/1296 [==============================] - 158s 122ms/step - loss: 0.0539 - categorical_accuracy: 0.9815 - val_loss: 1.0986 - val_categorical_accuracy: 0.7153\n",
      "Epoch 86/100\n",
      "1296/1296 [==============================] - 158s 122ms/step - loss: 0.0385 - categorical_accuracy: 0.9877 - val_loss: 1.1893 - val_categorical_accuracy: 0.7153\n",
      "Epoch 87/100\n",
      "1296/1296 [==============================] - 158s 122ms/step - loss: 0.0557 - categorical_accuracy: 0.9823 - val_loss: 1.1056 - val_categorical_accuracy: 0.7361\n",
      "Epoch 88/100\n",
      "1296/1296 [==============================] - 158s 122ms/step - loss: 0.0468 - categorical_accuracy: 0.9830 - val_loss: 1.0237 - val_categorical_accuracy: 0.7639\n",
      "Epoch 89/100\n",
      "1296/1296 [==============================] - 158s 122ms/step - loss: 0.0424 - categorical_accuracy: 0.9869 - val_loss: 1.1316 - val_categorical_accuracy: 0.7500\n",
      "Epoch 90/100\n",
      "1296/1296 [==============================] - 158s 122ms/step - loss: 0.0451 - categorical_accuracy: 0.9853 - val_loss: 1.3010 - val_categorical_accuracy: 0.7153\n",
      "Epoch 91/100\n",
      "1296/1296 [==============================] - 158s 122ms/step - loss: 0.0340 - categorical_accuracy: 0.9900 - val_loss: 1.1126 - val_categorical_accuracy: 0.7569\n",
      "Epoch 92/100\n",
      "1296/1296 [==============================] - 157s 121ms/step - loss: 0.0228 - categorical_accuracy: 0.9954 - val_loss: 1.1569 - val_categorical_accuracy: 0.7500\n",
      "Epoch 93/100\n",
      "1296/1296 [==============================] - 157s 121ms/step - loss: 0.0409 - categorical_accuracy: 0.9853 - val_loss: 1.1050 - val_categorical_accuracy: 0.7500\n",
      "Epoch 94/100\n"
     ]
    },
    {
     "name": "stdout",
     "output_type": "stream",
     "text": [
      "1296/1296 [==============================] - 157s 121ms/step - loss: 0.0297 - categorical_accuracy: 0.9900 - val_loss: 1.1705 - val_categorical_accuracy: 0.7431\n",
      "Epoch 95/100\n",
      "1296/1296 [==============================] - 157s 121ms/step - loss: 0.0252 - categorical_accuracy: 0.9923 - val_loss: 1.1982 - val_categorical_accuracy: 0.7083\n",
      "Epoch 96/100\n",
      "1296/1296 [==============================] - 157s 121ms/step - loss: 0.0504 - categorical_accuracy: 0.9807 - val_loss: 1.2367 - val_categorical_accuracy: 0.7083\n",
      "Epoch 97/100\n",
      "1296/1296 [==============================] - 157s 121ms/step - loss: 0.0338 - categorical_accuracy: 0.9877 - val_loss: 1.2460 - val_categorical_accuracy: 0.7222\n",
      "Epoch 98/100\n",
      "1296/1296 [==============================] - 157s 121ms/step - loss: 0.0376 - categorical_accuracy: 0.9853 - val_loss: 1.0700 - val_categorical_accuracy: 0.7500\n",
      "Epoch 99/100\n",
      "1296/1296 [==============================] - 157s 121ms/step - loss: 0.0418 - categorical_accuracy: 0.9853 - val_loss: 1.1919 - val_categorical_accuracy: 0.7431\n",
      "Epoch 100/100\n",
      "1296/1296 [==============================] - 157s 121ms/step - loss: 0.0239 - categorical_accuracy: 0.9915 - val_loss: 1.1267 - val_categorical_accuracy: 0.7500\n"
     ]
    }
   ],
   "source": [
    "batch_size = 8\n",
    "num_epochs = 100\n",
    "lr_reduce = ReduceLROnPlateau(monitor='val_loss', factor=0.9, patience=20, min_lr=0.000001)\n",
    "# Please change the model name accordingly.\n",
    "mcp_save = ModelCheckpoint('Models/Audio_2DCNN_5L.h5', save_best_only=True, monitor='val_categorical_accuracy', mode='max')\n",
    "cnnhistory=model.fit(X_train, y_train, batch_size=batch_size, epochs=num_epochs,validation_data=(X_test, y_test), callbacks=[mcp_save, lr_reduce])"
   ]
  },
  {
   "cell_type": "code",
   "execution_count": 49,
   "id": "86c59327",
   "metadata": {},
   "outputs": [
    {
     "data": {
      "text/plain": [
       "0.7638888955116272"
      ]
     },
     "execution_count": 49,
     "metadata": {},
     "output_type": "execute_result"
    }
   ],
   "source": [
    "max(cnnhistory.history['val_categorical_accuracy'])"
   ]
  },
  {
   "cell_type": "code",
   "execution_count": 50,
   "id": "3b1969c4",
   "metadata": {},
   "outputs": [
    {
     "name": "stdout",
     "output_type": "stream",
     "text": [
      "ERROR! Session/line number was not unique in database. History logging moved to new session 181\n"
     ]
    },
    {
     "data": {
      "image/png": "[encoded data removed]",
      "text/plain": [
       "<Figure size 432x288 with 1 Axes>"
      ]
     },
     "metadata": {
      "needs_background": "light"
     },
     "output_type": "display_data"
    }
   ],
   "source": [
    "# Plotting the Train Valid Loss Graph\n",
    "\n",
    "plt.plot(cnnhistory.history['categorical_accuracy'])\n",
    "plt.plot(cnnhistory.history['val_categorical_accuracy'])\n",
    "plt.title('model accuracy')\n",
    "plt.ylabel('accuracy')\n",
    "plt.xlabel('epoch')\n",
    "plt.legend(['train', 'test'], loc='upper left')\n",
    "plt.show()"
   ]
  },
  {
   "cell_type": "code",
   "execution_count": 51,
   "id": "13f953c6",
   "metadata": {},
   "outputs": [
    {
     "data": {
      "image/png": "[encoded data removed]",
      "text/plain": [
       "<Figure size 432x288 with 1 Axes>"
      ]
     },
     "metadata": {
      "needs_background": "light"
     },
     "output_type": "display_data"
    }
   ],
   "source": [
    "# Plotting the Train Valid Loss Graph\n",
    "\n",
    "plt.plot(cnnhistory.history['loss'])\n",
    "plt.plot(cnnhistory.history['val_loss'])\n",
    "plt.title('model loss')\n",
    "plt.ylabel('loss')\n",
    "plt.xlabel('epoch')\n",
    "plt.legend(['train', 'test'], loc='upper left')\n",
    "plt.show()"
   ]
  },
  {
   "cell_type": "code",
   "execution_count": 52,
   "id": "d2afd13a",
   "metadata": {},
   "outputs": [
    {
     "name": "stdout",
     "output_type": "stream",
     "text": [
      "ERROR! Session/line number was not unique in database. History logging moved to new session 183\n"
     ]
    }
   ],
   "source": [
    "y_pred=model.predict(X_test)"
   ]
  },
  {
   "cell_type": "code",
   "execution_count": 53,
   "id": "73e6d115",
   "metadata": {},
   "outputs": [],
   "source": [
    "def print_confusion_matrix(confusion_matrix, class_names, figsize = (9,6), fontsize=14):\n",
    "    \"\"\"Prints a confusion matrix, as returned by sklearn.metrics.confusion_matrix, as a heatmap.\n",
    "    \n",
    "    Arguments\n",
    "    ---------\n",
    "    confusion_matrix: numpy.ndarray\n",
    "        The numpy.ndarray object returned from a call to sklearn.metrics.confusion_matrix. \n",
    "        Similarly constructed ndarrays can also be used.\n",
    "    class_names: list\n",
    "        An ordered list of class names, in the order they index the given confusion matrix.\n",
    "    figsize: tuple\n",
    "        A 2-long tuple, the first value determining the horizontal size of the ouputted figure,\n",
    "        the second determining the vertical size. Defaults to (10,7).\n",
    "    fontsize: int\n",
    "        Font size for axes labels. Defaults to 14.\n",
    "        \n",
    "    Returns\n",
    "    -------\n",
    "    matplotlib.figure.Figure\n",
    "        The resulting confusion matrix figure\n",
    "    \"\"\"\n",
    "    df_cm = pd.DataFrame(\n",
    "        confusion_matrix, index=class_names, columns=class_names, \n",
    "    )\n",
    "    fig = plt.figure(figsize=figsize)\n",
    "    try:\n",
    "        heatmap = sns.heatmap(df_cm, annot=True, fmt=\"d\")\n",
    "    except ValueError:\n",
    "        raise ValueError(\"Confusion matrix values must be integers.\")\n",
    "        \n",
    "    heatmap.yaxis.set_ticklabels(heatmap.yaxis.get_ticklabels(), rotation=0, ha='right', fontsize=fontsize)\n",
    "    heatmap.xaxis.set_ticklabels(heatmap.xaxis.get_ticklabels(), rotation=45, ha='right', fontsize=fontsize)\n",
    "    plt.ylabel('True label')\n",
    "    plt.xlabel('Predicted label')"
   ]
  },
  {
   "cell_type": "code",
   "execution_count": 54,
   "id": "dd3eaafe",
   "metadata": {},
   "outputs": [],
   "source": [
    "class_names=['neutral','calm', 'happy', 'sad', 'angry', 'fearful', 'disgust', 'surprised']"
   ]
  },
  {
   "cell_type": "code",
   "execution_count": 55,
   "id": "138ed0c9",
   "metadata": {},
   "outputs": [
    {
     "name": "stdout",
     "output_type": "stream",
     "text": [
      "              precision    recall  f1-score   support\n",
      "\n",
      "           0       1.00      0.78      0.88         9\n",
      "           1       0.91      0.80      0.85        25\n",
      "           2       0.93      0.68      0.79        19\n",
      "           3       0.30      0.58      0.40        12\n",
      "           4       0.84      0.89      0.86        18\n",
      "           5       0.52      0.61      0.56        18\n",
      "           6       0.85      0.94      0.89        18\n",
      "           7       0.94      0.68      0.79        25\n",
      "\n",
      "    accuracy                           0.75       144\n",
      "   macro avg       0.79      0.75      0.75       144\n",
      "weighted avg       0.81      0.75      0.77       144\n",
      "\n"
     ]
    }
   ],
   "source": [
    "from sklearn.metrics import confusion_matrix\n",
    "c = confusion_matrix(np.argmax(y_test, axis=1), np.argmax(y_pred, axis=1))\n",
    "from sklearn.metrics import classification_report\n",
    "print(classification_report(np.argmax(y_test, axis=1), np.argmax(y_pred, axis=1)))"
   ]
  },
  {
   "cell_type": "code",
   "execution_count": 56,
   "id": "abc6f7fd",
   "metadata": {},
   "outputs": [
    {
     "data": {
      "image/png": "[encoded data removed]",
      "text/plain": [
       "<Figure size 648x432 with 2 Axes>"
      ]
     },
     "metadata": {
      "needs_background": "light"
     },
     "output_type": "display_data"
    }
   ],
   "source": [
    "print_confusion_matrix(c, class_names)"
   ]
  },
  {
   "cell_type": "code",
   "execution_count": 57,
   "id": "389fab2c",
   "metadata": {},
   "outputs": [],
   "source": [
    "import json\n",
    "model_json = model.to_json()\n",
    "with open(\"Models/Audio_2DCNN_LogMelModel_5L.json\", \"w\") as json_file:\n",
    "    json_file.write(model_json)"
   ]
  },
  {
   "cell_type": "code",
   "execution_count": null,
   "id": "ec95d646",
   "metadata": {},
   "outputs": [],
   "source": [
    "from keras.models import model_from_json\n",
    "json_file = open('Models/Audio_2DCNN_LogMelModel_5L.json', 'r')\n",
    "loaded_model_json = json_file.read()\n",
    "json_file.close()\n",
    "loaded_model = model_from_json(loaded_model_json)"
   ]
  },
  {
   "cell_type": "code",
   "execution_count": null,
   "id": "3e9032e2",
   "metadata": {},
   "outputs": [],
   "source": [
    "from keras.models import load_model\n",
    "loaded_model.load_weights('Models/Audio_2DCNN_5L.h5')"
   ]
  },
  {
   "cell_type": "code",
   "execution_count": null,
   "id": "121bbaaf",
   "metadata": {},
   "outputs": [],
   "source": [
    "loaded_model.compile(loss='categorical_crossentropy', optimizer=opt, metrics=['accuracy'])\n",
    "score = loaded_model.evaluate(x_testcnn, y_test, verbose=0)"
   ]
  }
 ],
 "metadata": {
  "kernelspec": {
   "display_name": "Python 3",
   "language": "python",
   "name": "python3"
  },
  "language_info": {
   "codemirror_mode": {
    "name": "ipython",
    "version": 3
   },
   "file_extension": ".py",
   "mimetype": "text/x-python",
   "name": "python",
   "nbconvert_exporter": "python",
   "pygments_lexer": "ipython3",
   "version": "3.6.13"
  }
 },
 "nbformat": 4,
 "nbformat_minor": 5
}
