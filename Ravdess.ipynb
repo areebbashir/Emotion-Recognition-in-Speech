{
 "cells": [
  {
   "cell_type": "code",
   "execution_count": 3,
   "id": "8668f0c6",
   "metadata": {},
   "outputs": [],
   "source": [
    "import os\n",
    "import sys\n",
    "import warnings\n",
    "warnings.filterwarnings('ignore')\n",
    "import numpy as np\n",
    "import pandas as pd"
   ]
  },
  {
   "cell_type": "code",
   "execution_count": 12,
   "id": "c09d5373",
   "metadata": {},
   "outputs": [],
   "source": [
    "def get_emotion(x):\n",
    "    dict={'01':'neutral', '02':'calm', '03':'happy', '04':'sad', '05':'angry', '06':'fearful', '07':'disgust', '08':'surprised'}\n",
    "    return dict[x]\n"
   ]
  },
  {
   "cell_type": "code",
   "execution_count": 15,
   "id": "a40fdab6",
   "metadata": {
    "scrolled": true
   },
   "outputs": [],
   "source": [
    "dataset_dir='RAVDESS'\n",
    "path=[]\n",
    "actor=[]\n",
    "gender=[]\n",
    "emotion_label=[]\n",
    "emotion=[]\n",
    "for actor_folder in os.listdir(dataset_dir):\n",
    "    for filepath in os.listdir(os.path.join(dataset_dir,actor_folder)):\n",
    "        \n",
    "        # print(filename)\n",
    "        filename=filepath.split('.')[0].split('-')\n",
    "        path.append(os.path.join(dataset_dir+'/Actor_'+filename[-1]+\"/\"+ filepath))\n",
    "        actr=np.int(filename[-1])\n",
    "        actor.append(actr)\n",
    "        if(actr%2==0):\n",
    "            gender.append('female')\n",
    "        else:\n",
    "            gender.append('male')\n",
    "        emotion.append(np.int(filename[2]))\n",
    "        emotion_lb=get_emotion(filename[2])\n",
    "        emotion_label.append(emotion_lb)\n",
    "df=pd.DataFrame(np.column_stack([path, actor, gender, emotion_label, emotion]), columns=['path','actor', 'gender', 'emotion_label', 'emotion'])"
   ]
  },
  {
   "cell_type": "code",
   "execution_count": 20,
   "id": "1cf94d18",
   "metadata": {
    "scrolled": true
   },
   "outputs": [],
   "source": [
    "df.to_csv('dataset.csv')"
   ]
  },
  {
   "cell_type": "code",
   "execution_count": 16,
   "id": "bf9cb6bd",
   "metadata": {},
   "outputs": [
    {
     "data": {
      "text/html": [
       "<div>\n",
       "<style scoped>\n",
       "    .dataframe tbody tr th:only-of-type {\n",
       "        vertical-align: middle;\n",
       "    }\n",
       "\n",
       "    .dataframe tbody tr th {\n",
       "        vertical-align: top;\n",
       "    }\n",
       "\n",
       "    .dataframe thead th {\n",
       "        text-align: right;\n",
       "    }\n",
       "</style>\n",
       "<table border=\"1\" class=\"dataframe\">\n",
       "  <thead>\n",
       "    <tr style=\"text-align: right;\">\n",
       "      <th></th>\n",
       "      <th>path</th>\n",
       "      <th>actor</th>\n",
       "      <th>gender</th>\n",
       "      <th>emotion_label</th>\n",
       "      <th>emotion</th>\n",
       "    </tr>\n",
       "  </thead>\n",
       "  <tbody>\n",
       "    <tr>\n",
       "      <th>0</th>\n",
       "      <td>RAVDESS/Actor_01/03-01-01-01-01-01-01.wav</td>\n",
       "      <td>1</td>\n",
       "      <td>male</td>\n",
       "      <td>neutral</td>\n",
       "      <td>1</td>\n",
       "    </tr>\n",
       "    <tr>\n",
       "      <th>1</th>\n",
       "      <td>RAVDESS/Actor_01/03-01-01-01-01-02-01.wav</td>\n",
       "      <td>1</td>\n",
       "      <td>male</td>\n",
       "      <td>neutral</td>\n",
       "      <td>1</td>\n",
       "    </tr>\n",
       "    <tr>\n",
       "      <th>2</th>\n",
       "      <td>RAVDESS/Actor_01/03-01-01-01-02-01-01.wav</td>\n",
       "      <td>1</td>\n",
       "      <td>male</td>\n",
       "      <td>neutral</td>\n",
       "      <td>1</td>\n",
       "    </tr>\n",
       "    <tr>\n",
       "      <th>3</th>\n",
       "      <td>RAVDESS/Actor_01/03-01-01-01-02-02-01.wav</td>\n",
       "      <td>1</td>\n",
       "      <td>male</td>\n",
       "      <td>neutral</td>\n",
       "      <td>1</td>\n",
       "    </tr>\n",
       "    <tr>\n",
       "      <th>4</th>\n",
       "      <td>RAVDESS/Actor_01/03-01-02-01-01-01-01.wav</td>\n",
       "      <td>1</td>\n",
       "      <td>male</td>\n",
       "      <td>calm</td>\n",
       "      <td>2</td>\n",
       "    </tr>\n",
       "  </tbody>\n",
       "</table>\n",
       "</div>"
      ],
      "text/plain": [
       "                                        path actor gender emotion_label  \\\n",
       "0  RAVDESS/Actor_01/03-01-01-01-01-01-01.wav     1   male       neutral   \n",
       "1  RAVDESS/Actor_01/03-01-01-01-01-02-01.wav     1   male       neutral   \n",
       "2  RAVDESS/Actor_01/03-01-01-01-02-01-01.wav     1   male       neutral   \n",
       "3  RAVDESS/Actor_01/03-01-01-01-02-02-01.wav     1   male       neutral   \n",
       "4  RAVDESS/Actor_01/03-01-02-01-01-01-01.wav     1   male          calm   \n",
       "\n",
       "  emotion  \n",
       "0       1  \n",
       "1       1  \n",
       "2       1  \n",
       "3       1  \n",
       "4       2  "
      ]
     },
     "execution_count": 16,
     "metadata": {},
     "output_type": "execute_result"
    }
   ],
   "source": [
    "df.head()"
   ]
  },
  {
   "cell_type": "code",
   "execution_count": 4,
   "id": "912e98bb",
   "metadata": {},
   "outputs": [],
   "source": [
    "df=pd.read_csv('dataset.csv', index_col=0)"
   ]
  }
 ],
 "metadata": {
  "kernelspec": {
   "display_name": "Python 3",
   "language": "python",
   "name": "python3"
  },
  "language_info": {
   "codemirror_mode": {
    "name": "ipython",
    "version": 3
   },
   "file_extension": ".py",
   "mimetype": "text/x-python",
   "name": "python",
   "nbconvert_exporter": "python",
   "pygments_lexer": "ipython3",
   "version": "3.6.13"
  }
 },
 "nbformat": 4,
 "nbformat_minor": 5
}
